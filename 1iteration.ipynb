{
 "cells": [
  {
   "cell_type": "code",
   "execution_count": 1,
   "metadata": {},
   "outputs": [],
   "source": [
    "# Some necessary modules are loaded\n",
    "from sklearn import preprocessing\n",
    "import numpy as np\n",
    "import pandas as pd\n",
    "from sklearn.model_selection import train_test_split, KFold\n",
    "from sklearn.metrics import mean_squared_error\n",
    "from sklearn.gaussian_process import GaussianProcessRegressor\n",
    "from sklearn.gaussian_process.kernels import WhiteKernel, RBF\n",
    "import joblib\n",
    "import pickle"
   ]
  },
  {
   "cell_type": "code",
   "execution_count": 2,
   "metadata": {},
   "outputs": [
    {
     "name": "stdout",
     "output_type": "stream",
     "text": [
      "744.0 742.0 600.0\n",
      "(302, 210)\n",
      "444\n",
      "442\n",
      "300\n"
     ]
    }
   ],
   "source": [
    "df=pd.read_csv('299train_test.csv')\n",
    "df = df.sort_values(by='std', ascending = False)\n",
    "data = np.array(df)\n",
    "a=data[0,0]\n",
    "b=data[1,0]\n",
    "c=data[2,0]\n",
    "print(a,b,c)\n",
    "    \n",
    "df1   = pd.read_csv('299rdkit_training.csv', delimiter=',', header=0)             \n",
    "data_nonan = np.array(df1)\n",
    "\n",
    "df3=pd.read_csv('546DFT_H.csv')\n",
    "a=int(a)\n",
    "b=int(b)\n",
    "c=int(c)\n",
    "df3.index=df3['index']\n",
    "data_a=df3.loc[a, :]\n",
    "data_a=df1.append(data_a, ignore_index=True)\n",
    "data_b=df3.loc[b, :]\n",
    "data_b=data_a.append(data_b, ignore_index=True)\n",
    "data_c=df3.loc[c, :]\n",
    "train=data_b.append(data_c, ignore_index=True)\n",
    "print(train.shape)\n",
    "train.to_csv('302rdkit_training.csv', mode='a+', index=False)                        \n",
    "    \n",
    "    \n",
    "test=pd.read_csv('546COD_fp.csv')\n",
    "a=test[test['index']==a].index[0]#test.at[i,'index']\n",
    "print(a)    \n",
    "test_a=test.drop(labels=a)\n",
    "b=test_a[test_a['index']==b].index[0]#test.at[i,'index']\n",
    "print(b)    \n",
    "test_b=test_a.drop(labels=b)\n",
    "c=test_b[test_b['index']==c].index[0]#test.at[i,'index']\n",
    "print(c)    \n",
    "test_new=test_b.drop(labels=c)\n",
    "test_new.to_csv('543COD_fp.csv', mode='a+', index=False)"
   ]
  },
  {
   "cell_type": "code",
   "execution_count": null,
   "metadata": {},
   "outputs": [],
   "source": []
  },
  {
   "cell_type": "code",
   "execution_count": null,
   "metadata": {},
   "outputs": [],
   "source": []
  }
 ],
 "metadata": {
  "kernelspec": {
   "display_name": "Python 3",
   "language": "python",
   "name": "python3"
  },
  "language_info": {
   "codemirror_mode": {
    "name": "ipython",
    "version": 3
   },
   "file_extension": ".py",
   "mimetype": "text/x-python",
   "name": "python",
   "nbconvert_exporter": "python",
   "pygments_lexer": "ipython3",
   "version": "3.7.6"
  }
 },
 "nbformat": 4,
 "nbformat_minor": 4
}
