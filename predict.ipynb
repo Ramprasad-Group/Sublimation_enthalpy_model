{
  "cells": [
    {
      "cell_type": "markdown",
      "metadata": {
        "id": "MOrqN1aWRNL4"
      },
      "source": [
        "<a href=\"https://colab.research.google.com/github/yifan950/Sublimation_enthalpy_model/blob/main/predict.ipynb\" target=\"_parent\"><img src=\"https://colab.research.google.com/assets/colab-badge.svg\" alt=\"Open In Colab\"/></a>\n",
        "\n"
      ]
    },
    {
      "cell_type": "markdown",
      "metadata": {
        "id": "C4e2BnN2RNL8"
      },
      "source": [
        "This notebook imports models published in the article titled \"Accelerated predictions of the sublimation enthalpy of organic materials with machine learning\" and offers predictions for the sublimation enthalpy of new candidates. For more detailed information, please refer to XXX."
      ]
    },
    {
      "cell_type": "code",
      "source": [
        "#@title Predict the Sublimation Enthalpy of Organic Molecules\n",
        "#@markdown *Please first input your candidate's SMILES string, and then press on the left button to run.*\n",
        "\n",
        "#@markdown *This model will check and load the RDkit 2022.9.05 version, then give a prediction for the input SMILES.*\n",
        "\n",
        "#Clone the repository if not already present\n",
        "!git clone https://github.com/yifan950/Sublimation_enthalpy_model.git\n",
        "\n",
        "#Load rdkit 2022.9.05 version\n",
        "!pip install rdkit==2022.9.05\n",
        "\n",
        "#Load necessary packages\n",
        "import joblib\n",
        "import os\n",
        "import pickle\n",
        "import numpy as np\n",
        "import pandas as pd\n",
        "from rdkit import Chem\n",
        "from rdkit.Chem import Descriptors\n",
        "from sklearn.preprocessing import StandardScaler\n",
        "import warnings\n",
        "\n",
        "# Suppress InconsistentVersionWarning\n",
        "warnings.filterwarnings(\"ignore\", category=UserWarning)\n",
        "\n",
        "#Paths to the required files\n",
        "scaler_path = \"/content/Sublimation_enthalpy_model/845scaler.save\"\n",
        "model_path = \"/content/Sublimation_enthalpy_model/845model.pkl\"\n",
        "\n",
        "#Load the scaler\n",
        "with open(scaler_path, 'rb') as f:\n",
        "    scaler = joblib.load(f)\n",
        "\n",
        "#Load the model\n",
        "with open(model_path, 'rb') as f:\n",
        "    model = pickle.load(f)\n",
        "\n",
        "# @markdown 1. Enter a SMILES string:\n",
        "smiles = \"CCCC\" # @param {type:\"string\"}\n",
        "\n",
        "def compute_descriptors(smiles):\n",
        "    \"\"\"\n",
        "    Compute RDKit molecular descriptors for a given SMILES string.\n",
        "    Parameters:\n",
        "        smiles (str): The SMILES string of the molecule.\n",
        "    Returns:\n",
        "        np.array: A NumPy array of molecular descriptors.\n",
        "    \"\"\"\n",
        "    mol = Chem.MolFromSmiles(smiles)\n",
        "    if mol is None:\n",
        "        raise ValueError(f\"Invalid SMILES string: {smiles}\")\n",
        "\n",
        "    # Extract descriptors\n",
        "    descriptor_values = [func(mol) for _, func in Descriptors.descList]\n",
        "    return np.array(descriptor_values)\n",
        "\n",
        "def get_smiles_input():\n",
        "    \"\"\"Request user input for a SMILES string.\"\"\"\n",
        "    return input(\"Enter a SMILES string: \")\n",
        "\n",
        "def predict_sublimation_enthalpy(smiles):\n",
        "    \"\"\"Predict the sublimation enthalpy for a given SMILES string.\"\"\"\n",
        "    try:\n",
        "        # Compute molecular descriptors\n",
        "        descriptors = compute_descriptors(smiles)\n",
        "\n",
        "        # Reshape and normalize the descriptors using the scaler\n",
        "        descriptors_normalized = scaler.transform([descriptors])\n",
        "\n",
        "        # Use the model to predict the sublimation enthalpy\n",
        "        prediction = model.predict(descriptors_normalized)\n",
        "        return prediction[0]\n",
        "    except Exception as e:\n",
        "        print(f\"Error: {e}\")\n",
        "        return None\n",
        "\n",
        "\n",
        "if __name__ == \"__main__\":\n",
        "\n",
        "    # Predict the sublimation enthalpy\n",
        "    enthalpy = predict_sublimation_enthalpy(smiles)\n",
        "\n",
        "    # Display the result\n",
        "    if enthalpy is not None:\n",
        "        print(f\"Predicted Sublimation Enthalpy: {enthalpy:.2f} kJ/mol\")\n",
        "    else:\n",
        "        print(\"Failed to predict sublimation enthalpy.\")"
      ],
      "metadata": {
        "id": "IsQigkc_S2rO",
        "outputId": "274cc83f-d513-489c-c717-755caa2a9edd",
        "colab": {
          "base_uri": "https://localhost:8080/"
        }
      },
      "execution_count": 1,
      "outputs": [
        {
          "output_type": "stream",
          "name": "stdout",
          "text": [
            "Cloning into 'Sublimation_enthalpy_model'...\n",
            "remote: Enumerating objects: 122, done.\u001b[K\n",
            "remote: Counting objects: 100% (122/122), done.\u001b[K\n",
            "remote: Compressing objects: 100% (118/118), done.\u001b[K\n",
            "remote: Total 122 (delta 53), reused 0 (delta 0), pack-reused 0 (from 0)\u001b[K\n",
            "Receiving objects: 100% (122/122), 6.66 MiB | 9.35 MiB/s, done.\n",
            "Resolving deltas: 100% (53/53), done.\n",
            "Collecting rdkit==2022.9.05\n",
            "  Downloading rdkit-2022.9.5-cp310-cp310-manylinux_2_17_x86_64.manylinux2014_x86_64.whl.metadata (3.9 kB)\n",
            "Requirement already satisfied: numpy in /usr/local/lib/python3.10/dist-packages (from rdkit==2022.9.05) (1.26.4)\n",
            "Requirement already satisfied: Pillow in /usr/local/lib/python3.10/dist-packages (from rdkit==2022.9.05) (10.4.0)\n",
            "Downloading rdkit-2022.9.5-cp310-cp310-manylinux_2_17_x86_64.manylinux2014_x86_64.whl (29.4 MB)\n",
            "\u001b[2K   \u001b[90m━━━━━━━━━━━━━━━━━━━━━━━━━━━━━━━━━━━━━━━━\u001b[0m \u001b[32m29.4/29.4 MB\u001b[0m \u001b[31m35.5 MB/s\u001b[0m eta \u001b[36m0:00:00\u001b[0m\n",
            "\u001b[?25hInstalling collected packages: rdkit\n",
            "Successfully installed rdkit-2022.9.5\n",
            "Collecting scikit-learn==1.0\n",
            "  Downloading scikit-learn-1.0.tar.gz (7.8 MB)\n",
            "\u001b[2K     \u001b[90m━━━━━━━━━━━━━━━━━━━━━━━━━━━━━━━━━━━━━━━━\u001b[0m \u001b[32m7.8/7.8 MB\u001b[0m \u001b[31m44.3 MB/s\u001b[0m eta \u001b[36m0:00:00\u001b[0m\n",
            "\u001b[?25h  Installing build dependencies ... \u001b[?25l\u001b[?25hdone\n",
            "  Getting requirements to build wheel ... \u001b[?25l\u001b[?25hdone\n",
            "  \u001b[1;31merror\u001b[0m: \u001b[1msubprocess-exited-with-error\u001b[0m\n",
            "  \n",
            "  \u001b[31m×\u001b[0m \u001b[32mPreparing metadata \u001b[0m\u001b[1;32m(\u001b[0m\u001b[32mpyproject.toml\u001b[0m\u001b[1;32m)\u001b[0m did not run successfully.\n",
            "  \u001b[31m│\u001b[0m exit code: \u001b[1;36m1\u001b[0m\n",
            "  \u001b[31m╰─>\u001b[0m See above for output.\n",
            "  \n",
            "  \u001b[1;35mnote\u001b[0m: This error originates from a subprocess, and is likely not a problem with pip.\n",
            "  Preparing metadata (pyproject.toml) ... \u001b[?25l\u001b[?25herror\n",
            "\u001b[1;31merror\u001b[0m: \u001b[1mmetadata-generation-failed\u001b[0m\n",
            "\n",
            "\u001b[31m×\u001b[0m Encountered error while generating package metadata.\n",
            "\u001b[31m╰─>\u001b[0m See above for output.\n",
            "\n",
            "\u001b[1;35mnote\u001b[0m: This is an issue with the package mentioned above, not pip.\n",
            "\u001b[1;36mhint\u001b[0m: See above for details.\n"
          ]
        },
        {
          "output_type": "stream",
          "name": "stderr",
          "text": [
            "/usr/local/lib/python3.10/dist-packages/sklearn/base.py:376: InconsistentVersionWarning: Trying to unpickle estimator MinMaxScaler from version 1.0 when using version 1.5.2. This might lead to breaking code or invalid results. Use at your own risk. For more info please refer to:\n",
            "https://scikit-learn.org/stable/model_persistence.html#security-maintainability-limitations\n",
            "  warnings.warn(\n"
          ]
        },
        {
          "output_type": "stream",
          "name": "stdout",
          "text": [
            "Predicted Sublimation Enthalpy: 38.95 kJ/mol\n"
          ]
        },
        {
          "output_type": "stream",
          "name": "stderr",
          "text": [
            "/usr/local/lib/python3.10/dist-packages/sklearn/base.py:376: InconsistentVersionWarning: Trying to unpickle estimator GaussianProcessRegressor from version 1.0 when using version 1.5.2. This might lead to breaking code or invalid results. Use at your own risk. For more info please refer to:\n",
            "https://scikit-learn.org/stable/model_persistence.html#security-maintainability-limitations\n",
            "  warnings.warn(\n"
          ]
        }
      ]
    },
    {
      "cell_type": "code",
      "source": [],
      "metadata": {
        "id": "vVI88PPacOVl"
      },
      "execution_count": null,
      "outputs": []
    }
  ],
  "metadata": {
    "kernelspec": {
      "display_name": "Python 3",
      "language": "python",
      "name": "python3"
    },
    "language_info": {
      "codemirror_mode": {
        "name": "ipython",
        "version": 3
      },
      "file_extension": ".py",
      "mimetype": "text/x-python",
      "name": "python",
      "nbconvert_exporter": "python",
      "pygments_lexer": "ipython3",
      "version": "3.6.4"
    },
    "colab": {
      "provenance": []
    }
  },
  "nbformat": 4,
  "nbformat_minor": 0
}
