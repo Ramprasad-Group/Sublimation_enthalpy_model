{
  "cells": [
    {
      "cell_type": "markdown",
      "metadata": {
        "id": "MOrqN1aWRNL4"
      },
      "source": [
        "<a href=\"https://colab.research.google.com/github/Ramprasad-Group/Sublimation_enthalpy_model/blob/main/predict.ipynb\" target=\"_parent\"><img src=\"https://colab.research.google.com/assets/colab-badge.svg\" alt=\"Open In Colab\"/></a>\n",
        "\n"
      ]
    },
    {
      "cell_type": "markdown",
      "metadata": {
        "id": "C4e2BnN2RNL8"
      },
      "source": [
        "This notebook imports model published in the article titled \"Accelerated predictions of the sublimation enthalpy of organic materials with machine learning\" and offers predictions for the sublimation enthalpy of new candidates. For more detailed information, please refer to XXX."
      ]
    },
    {
      "cell_type": "code",
      "execution_count": 3,
      "metadata": {
        "colab": {
          "base_uri": "https://localhost:8080/"
        },
        "id": "IsQigkc_S2rO",
        "outputId": "94cff6d0-d216-47c6-d2d7-81f90a64ac76"
      },
      "outputs": [
        {
          "name": "stdout",
          "output_type": "stream",
          "text": [
            "Repository already cloned.\n",
            "Requirement already satisfied: rdkit==2022.9.05 in /usr/local/lib/python3.10/dist-packages (2022.9.5)\n",
            "Requirement already satisfied: numpy in /usr/local/lib/python3.10/dist-packages (from rdkit==2022.9.05) (1.26.4)\n",
            "Requirement already satisfied: Pillow in /usr/local/lib/python3.10/dist-packages (from rdkit==2022.9.05) (10.4.0)\n",
            "Predicted Sublimation Enthalpy: 38.95 kJ/mol\n"
          ]
        }
      ],
      "source": [
        "#@title Predict the Sublimation Enthalpy of Organic Molecules\n",
        "#@markdown *Please first input your candidate's SMILES string, and then press on the left button to run.*\n",
        "\n",
        "#@markdown *This model will check and load the RDkit 2022.9.05 version, then give a prediction for the input SMILES.*\n",
        "\n",
        "#Clone the repository if not already present\n",
        "import os\n",
        "if not os.path.exists(\"/content/Sublimation_enthalpy_model\"):\n",
        "    !git clone https://github.com/Ramprasad_Group/Sublimation_enthalpy_model.git\n",
        "else:\n",
        "    print(\"Repository already cloned.\")\n",
        "\n",
        "\n",
        "#Load rdkit 2022.9.05 version\n",
        "!pip install rdkit==2022.9.05\n",
        "\n",
        "#Load necessary packages\n",
        "import joblib\n",
        "import os\n",
        "import pickle\n",
        "import numpy as np\n",
        "import pandas as pd\n",
        "from rdkit import Chem\n",
        "from rdkit.Chem import Descriptors\n",
        "from sklearn.preprocessing import StandardScaler\n",
        "import warnings\n",
        "\n",
        "# Suppress InconsistentVersionWarning\n",
        "warnings.filterwarnings(\"ignore\", category=UserWarning)\n",
        "\n",
        "#Paths to the required files\n",
        "scaler_path = \"/content/Sublimation_enthalpy_model/845scaler.save\"\n",
        "model_path = \"/content/Sublimation_enthalpy_model/845model.pkl\"\n",
        "zero_features = \"/content/Sublimation_enthalpy_model/all_zero_features.txt\"\n",
        "\n",
        "#Load the scaler\n",
        "with open(scaler_path, 'rb') as f:\n",
        "    scaler = joblib.load(f)\n",
        "\n",
        "#Load the model\n",
        "with open(model_path, 'rb') as f:\n",
        "    model = pickle.load(f)\n",
        "\n",
        "# @markdown 1. Enter a SMILES string:\n",
        "smiles = \"CCCC\" # @param {type:\"string\"}\n",
        "\n",
        "def compute_descriptors(smiles):\n",
        "    \"\"\"\n",
        "    Compute RDKit molecular descriptors for a given SMILES string.\n",
        "    Parameters:\n",
        "        smiles (str): The SMILES string of the molecule.\n",
        "    Returns:\n",
        "        np.array: A NumPy array of molecular descriptors.\n",
        "    \"\"\"\n",
        "    mol = Chem.MolFromSmiles(smiles)\n",
        "    if mol is None:\n",
        "        raise ValueError(f\"Invalid SMILES string: {smiles}\")\n",
        "\n",
        "    # Extract descriptors\n",
        "    descriptor_values = [func(mol) for _, func in Descriptors.descList]\n",
        "    return np.array(descriptor_values)\n",
        "\n",
        "def get_smiles_input():\n",
        "    \"\"\"Request user input for a SMILES string.\"\"\"\n",
        "    return input(\"Enter a SMILES string: \")\n",
        "\n",
        "def predict_sublimation_enthalpy(smiles):\n",
        "    \"\"\"Predict the sublimation enthalpy for a given SMILES string.\"\"\"\n",
        "    try:\n",
        "        # Compute molecular descriptors\n",
        "        descriptors = compute_descriptors(smiles)\n",
        "\n",
        "        # Reshape and normalize the descriptors using the scaler\n",
        "        # Load the list of zero features\n",
        "        with open(zero_features, 'r') as f:\n",
        "            zero_features_list = f.read().splitlines()\n",
        "\n",
        "        # Convert the list of zero features to indices\n",
        "        zero_indices = [Descriptors.descList.index((name, func)) for name, func in Descriptors.descList if name in zero_features_list]\n",
        "\n",
        "        # Drop the zero features from the descriptors\n",
        "        descriptors_filtered = np.delete(descriptors, zero_indices)\n",
        "\n",
        "        # Reshape and normalize the descriptors using the scaler\n",
        "        descriptors_normalized = scaler.transform([descriptors_filtered])\n",
        "\n",
        "        # Use the model to predict the sublimation enthalpy\n",
        "        prediction = model.predict(descriptors_normalized)\n",
        "        return prediction[0]\n",
        "    except Exception as e:\n",
        "        print(f\"Error: {e}\")\n",
        "        return None\n",
        "\n",
        "\n",
        "if __name__ == \"__main__\":\n",
        "\n",
        "    # Predict the sublimation enthalpy\n",
        "    enthalpy = predict_sublimation_enthalpy(smiles)\n",
        "\n",
        "    # Display the result\n",
        "    if enthalpy is not None:\n",
        "        print(f\"Predicted Sublimation Enthalpy: {enthalpy:.2f} kJ/mol\")\n",
        "    else:\n",
        "        print(\"Failed to predict sublimation enthalpy.\")"
      ]
    },
    {
      "cell_type": "code",
      "execution_count": null,
      "metadata": {
        "id": "vVI88PPacOVl"
      },
      "outputs": [],
      "source": []
    }
  ],
  "metadata": {
    "colab": {
      "provenance": []
    },
    "kernelspec": {
      "display_name": "Python 3",
      "language": "python",
      "name": "python3"
    },
    "language_info": {
      "codemirror_mode": {
        "name": "ipython",
        "version": 3
      },
      "file_extension": ".py",
      "mimetype": "text/x-python",
      "name": "python",
      "nbconvert_exporter": "python",
      "pygments_lexer": "ipython3",
      "version": "3.6.4"
    }
  },
  "nbformat": 4,
  "nbformat_minor": 0
}
